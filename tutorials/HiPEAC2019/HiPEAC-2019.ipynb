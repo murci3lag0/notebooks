{
 "cells": [
  {
   "cell_type": "markdown",
   "metadata": {
    "slideshow": {
     "slide_type": "slide"
    }
   },
   "source": [
    "# Machine Learning applied to Space Weather\n",
    "## Jorge Amaya\n",
    "### Research Expert\n",
    "\n",
    "Centre for mathematical Plasma-Astrophysics  \n",
    "Mathematics Department  \n",
    "KU Leuven University  \n",
    "Belgium  \n",
    "\n",
    "<table><tr>\n",
    "    <td> <img src=\"img/euflag.png\"/> </td>\n",
    "    <td> <font size=\"2\" color=\"grey\">The DEEP projects have received funding from the European Union’s Seventh Framework Programme (FP7) for research, technological development and demonstration and the Horion2020 (H2020) funding framework under grant agreement no. FP7-ICT-287530 (DEEP), FP7-ICT-610476 (DEEP-ER) and H2020-FETHPC-754304 (DEEP-EST)</font> </td>\n",
    "</tr></table>"
   ]
  },
  {
   "cell_type": "markdown",
   "metadata": {
    "slideshow": {
     "slide_type": "slide"
    }
   },
   "source": [
    "## Our research team in Leuven, Belgium\n",
    "\n",
    "<img src=\"img/cmpapeople.jpeg\" style=\"width: 70%;\"/>\n",
    "\n",
    "\n",
    "At the CmPA we use supercomputers and data from instruments in space and on Earth to study the plasma environment of space."
   ]
  },
  {
   "cell_type": "markdown",
   "metadata": {
    "slideshow": {
     "slide_type": "slide"
    }
   },
   "source": [
    "## What is Space Weather?\n",
    "\n",
    "Is the study of the effects of solar activity on human life and technology.\n",
    "\n",
    "The Sun is an active start, constantly ejecting plasma and high energy radiation to space.\n",
    "\n",
    "<video controls src=\"img/cme.mp4\" />"
   ]
  },
  {
   "cell_type": "markdown",
   "metadata": {
    "slideshow": {
     "slide_type": "slide"
    }
   },
   "source": [
    "## Our energy shield\n",
    "\n",
    "The Earth is protected by its magnetic field, but in times of high solar activity the Earth environment is affected.\n",
    "\n",
    "We use satellites and simulations to track the solar activity and the conditions of the plasma environment of our planet.\n",
    "\n",
    "![image](img/magnetosphere.gif)"
   ]
  },
  {
   "cell_type": "markdown",
   "metadata": {
    "slideshow": {
     "slide_type": "slide"
    }
   },
   "source": [
    "## Effects on the Earth\n",
    "\n",
    "This injection of radiaion and plasma changes the plasma environment of our planet, creating the auroras, but also ionizing the top of the atmosphere.\n",
    "\n",
    "![image](img/aurora.gif)"
   ]
  },
  {
   "cell_type": "markdown",
   "metadata": {
    "slideshow": {
     "slide_type": "slide"
    }
   },
   "source": [
    "## Effects on technology\n",
    "Ionization changes the refractive properties of the atmosphere, which in turn changes the propagation properties of electromagnetic waves. Telecomunication and GPS signals from satellites to the Earth are distorted and can cause problems.\n",
    "\n",
    "<img src=\"img/sweffects.jpg\" style=\"width: 60%;\"/>\n",
    "\n",
    "Ionization also induce high voltage currents in long conductive lines, like pipelines and electric grids. In extreme cases they have caused the disruption of electricity: in march 13, 1989, a geomagnetic storm caused a 9-hour outage in Quebec, Canada. [Read more about it here](https://en.wikipedia.org/wiki/March_1989_geomagnetic_storm)"
   ]
  },
  {
   "cell_type": "markdown",
   "metadata": {
    "slideshow": {
     "slide_type": "slide"
    }
   },
   "source": [
    "## The data for this tutorial\n",
    "\n",
    "Today we will work as space scientists!\n",
    "\n",
    "We will use in-situ measurements of the solar wind conditions upstream of the Earth to forecast the geomagnetic activity on our planet."
   ]
  },
  {
   "cell_type": "markdown",
   "metadata": {
    "slideshow": {
     "slide_type": "slide"
    }
   },
   "source": [
    "## Geomagnetic activity\n",
    "\n",
    "When plasma in injected in the Earth environment, electrically charged energetic particles orbit the planet, creating a current loop:\n",
    "\n",
    "<img src=\"img/Iloop.jpeg\" style=\"width: 40%;\"/>\n",
    "\n",
    "This loop generates a magnetic field that **oposses** the natural magnetic field of the Earth. Geomagnetic storms weaken our magnetic field!"
   ]
  },
  {
   "cell_type": "markdown",
   "metadata": {
    "slideshow": {
     "slide_type": "slide"
    }
   },
   "source": [
    "## Dst index\n",
    "\n",
    "To measure exactly by how much the magnetic field is weakened, we measure the magnetic field strenght at 4 stations near the equator:\n",
    "\n",
    "<img src=\"img/dststations.jpg\" style=\"width: 40%;\"/>\n",
    "\n",
    "We build the \"Disturbance storm time\" (Dst) index by averaging these measurements during one hour."
   ]
  },
  {
   "cell_type": "markdown",
   "metadata": {
    "slideshow": {
     "slide_type": "slide"
    }
   },
   "source": [
    "## Space data: load the Dst index\n",
    "\n",
    "An example of the Dst index record for the year 2010 is plotted bellow.\n",
    "\n",
    "Lets start by loading the data using pandas:"
   ]
  },
  {
   "cell_type": "code",
   "execution_count": 1,
   "metadata": {},
   "outputs": [],
   "source": [
    "import pandas as pd\n",
    "\n",
    "headers = ['year','day','hour','Bz','Np','V','Dst']\n",
    "data = pd.read_table(\"data/omni_2010.dat\",\n",
    "                header=None,\n",
    "                names=headers,\n",
    "                delim_whitespace=True,\n",
    "                skipinitialspace=True)"
   ]
  },
  {
   "cell_type": "markdown",
   "metadata": {
    "slideshow": {
     "slide_type": "slide"
    }
   },
   "source": [
    "## Space data: plot the Dst index\n",
    "\n",
    "Then we can use matplotlib to plot the Dst index for the full year (365 days):"
   ]
  },
  {
   "cell_type": "code",
   "execution_count": 2,
   "metadata": {},
   "outputs": [
    {
     "data": {
      "text/plain": [
       "<Figure size 640x480 with 1 Axes>"
      ]
     },
     "metadata": {},
     "output_type": "display_data"
    }
   ],
   "source": [
    "import matplotlib.pyplot as plt\n",
    "\n",
    "day = data['day'].values\n",
    "Dst = data['Dst'].values\n",
    "\n",
    "plt.plot(day, Dst)\n",
    "plt.xlabel('Day of the year')\n",
    "plt.ylabel('Dst')\n",
    "plt.show()"
   ]
  },
  {
   "cell_type": "markdown",
   "metadata": {
    "slideshow": {
     "slide_type": "slide"
    }
   },
   "source": [
    "## Storm categories\n",
    "\n",
    "The storms in 2010 were not partcularly strong. An example of a strong storm is presented in the figure bellow. Four levels of storm are defined depending on the intensity of the drop in the Dst index.\n",
    "\n",
    "<img src=\"img/dst.png\"/>\n",
    "\n",
    "The data presented here has been downloaded from a NASA database called [OMNIweb](http://omniweb.gsfc.nasa.gov)."
   ]
  },
  {
   "cell_type": "markdown",
   "metadata": {
    "slideshow": {
     "slide_type": "slide"
    }
   },
   "source": [
    "## Solar wind properties\n",
    "\n",
    "The figure bellow shows three important parameters measured in the solar wind. We are going to use them to perform the forecasting of the Dst index.\n",
    "\n",
    "Notice that there are null values, spaces in the data where no measurements are available. In some data these are given the value NaN, but in most they are given a particular token value.\n",
    "\n",
    "Here 'Np' has null values corresponding to 999.9, 'Bz' has null values of 999.9, and V has null values of 9999."
   ]
  },
  {
   "cell_type": "code",
   "execution_count": 3,
   "metadata": {
    "slideshow": {
     "slide_type": "slide"
    }
   },
   "outputs": [
    {
     "data": {
      "image/png": "[encoded data removed]",
      "text/plain": [
       "<Figure size 432x288 with 3 Axes>"
      ]
     },
     "metadata": {
      "needs_background": "light"
     },
     "output_type": "display_data"
    }
   ],
   "source": [
    "t  = data['day'].values\n",
    "Np = data['Np'].values\n",
    "Bz = data['Bz'].values\n",
    "V  = data['V'].values\n",
    "\n",
    "plt.subplot(311)\n",
    "plt.plot(t, Np)\n",
    "plt.ylabel('Np (1/cc)')\n",
    "plt.subplot(312)\n",
    "plt.plot(t, Bz)\n",
    "plt.ylabel('Bz (nT)')\n",
    "plt.subplot(313)\n",
    "plt.plot(t, V)\n",
    "plt.xlabel('Day of the year')\n",
    "plt.ylabel('V (km/h)')\n",
    "\n",
    "plt.show()"
   ]
  },
  {
   "cell_type": "markdown",
   "metadata": {
    "slideshow": {
     "slide_type": "slide"
    }
   },
   "source": [
    "## Why is this example interesting to you? Time series\n",
    "\n",
    "This type of data has a large range of applications. Forecasting the future value of a time series from values historically measured is an application that can be observed in science, industry, finance, medicine and many many others.\n",
    "\n",
    "Examples could include:\n",
    "- Prediction the prize of stock shares or economic indices\n",
    "- Forecasting tomorrows wheather in your city\n",
    "- Prognosticating the number of cases of flu infections\n",
    "- Extrapolation of the number of sales of a product\n",
    "- Forecasting the load of jobs in a cluster\n",
    "- foretelling the energy consumption in your house"
   ]
  },
  {
   "cell_type": "markdown",
   "metadata": {
    "slideshow": {
     "slide_type": "slide"
    }
   },
   "source": [
    "## Pre-processing the data\n",
    "\n",
    "Most of the time in machine learning is spent understanding and cleaning the data.\n",
    "\n",
    "Creating scripts that automatically pre-process the data is one of the main goals. **Good and clean data** generally translates into a good machine learning application."
   ]
  },
  {
   "cell_type": "markdown",
   "metadata": {
    "slideshow": {
     "slide_type": "slide"
    }
   },
   "source": [
    "## Time series manipulation\n",
    "\n",
    "We will create the inputs (x) and the outputs (y) for our machine learning model, by re-organizing the data. The figure bellow shows how a point in time $t$ can be forecasted using data at previous times $(t-8, t-7, ..., t-3)$.\n",
    "\n",
    "<img src=\"img/data_partition.png\" style=\"width: 40%;\"/>\n",
    "\n",
    "$n_t$: number of historic points (5 in this example)  \n",
    "$fcast$: forecasting time (3 in this example)"
   ]
  },
  {
   "cell_type": "markdown",
   "metadata": {
    "slideshow": {
     "slide_type": "slide"
    }
   },
   "source": [
    "## Inputs and outputs\n",
    "\n",
    "We can arrange this data in a *blue* input matrix, and an *orange* output vector.\n",
    "\n",
    "<img src=\"img/data_inputoutput.png\" style=\"width: 40%;\"/>"
   ]
  },
  {
   "cell_type": "markdown",
   "metadata": {
    "slideshow": {
     "slide_type": "slide"
    }
   },
   "source": [
    "## Building the inputs and outputs"
   ]
  },
  {
   "cell_type": "code",
   "execution_count": 4,
   "metadata": {
    "slideshow": {
     "slide_type": "-"
    }
   },
   "outputs": [
    {
     "name": "stdout",
     "output_type": "stream",
     "text": [
      "X = (8752, 5) , Y = (8752,)\n"
     ]
    }
   ],
   "source": [
    "import numpy as np\n",
    "\n",
    "Bz  = data['Bz'].values\n",
    "Dst = data['Dst'].values\n",
    "\n",
    "nt = 5\n",
    "fcast = 3\n",
    "\n",
    "tau = nt+fcast\n",
    "m = Bz.shape[0] - tau\n",
    "\n",
    "Y = np.array(Dst[tau:])\n",
    "X = np.array([Bz[i:i+nt].flatten() for i in range(m)])\n",
    "\n",
    "print(\"X =\",X.shape,\", Y =\", Y.shape)"
   ]
  },
  {
   "cell_type": "markdown",
   "metadata": {
    "slideshow": {
     "slide_type": "slide"
    }
   },
   "source": [
    "## Additional data manipulations\n",
    "\n",
    "We can also use a different time step between historic data. We call this $dt$ and.\n",
    "\n",
    "<img src=\"img/data_dt.png\" style=\"width: 30%;\" allign=left/>\n",
    "\n",
    "In addition we can group toguether multiple different features.\n",
    "\n",
    "<img src=\"img/data_multifeatures.png\" style=\"width: 30%;\"/>"
   ]
  },
  {
   "cell_type": "markdown",
   "metadata": {
    "slideshow": {
     "slide_type": "slide"
    }
   },
   "source": [
    "## Getting rid of nulls\n",
    "\n",
    "The arrays can contain corrupted or incomplete data. There are multiple methods to deal with such data, including interpolation, copying or modeling. Here, we just get rid of it!\n",
    "\n",
    "<img src=\"img/data_nulls.png\" style=\"width: 50%;\"/>"
   ]
  },
  {
   "cell_type": "code",
   "execution_count": 5,
   "metadata": {},
   "outputs": [
    {
     "name": "stdout",
     "output_type": "stream",
     "text": [
      "(8752, 5)\n"
     ]
    }
   ],
   "source": [
    "Xn = [X[i,:] for i in range(m) if all(j!=999. for j in X[i,:]) and Y[i]!=999]\n",
    "Xn = np.array(Xn)\n",
    "print(Xn.shape)"
   ]
  },
  {
   "cell_type": "markdown",
   "metadata": {
    "slideshow": {
     "slide_type": "slide"
    }
   },
   "source": [
    "## Showing that this actually works\n",
    "\n",
    "The Bz does not contain nulls, but the velocity does. Lets see if the code above works:"
   ]
  },
  {
   "cell_type": "code",
   "execution_count": 6,
   "metadata": {},
   "outputs": [
    {
     "name": "stdout",
     "output_type": "stream",
     "text": [
      "X_V = (8752, 5)\n",
      "Previously: Xn =  (8752, 5) , Now: X_V (8740, 5)\n"
     ]
    }
   ],
   "source": [
    "X_V = np.array([V[i:i+nt].flatten() for i in range(m)])\n",
    "print(\"X_V =\",X_V.shape)\n",
    "\n",
    "Xn_V = [X_V[i,:] for i in range(m) if all(j!=9999. for j in X_V[i,:]) and Y[i]!=999]\n",
    "\n",
    "Xn_V = np.array(Xn_V)\n",
    "print(\"Previously: Xn = \", Xn.shape, \", Now: X_V\", Xn_V.shape)"
   ]
  },
  {
   "cell_type": "markdown",
   "metadata": {},
   "source": [
    "There are 12 null entries in the velocity field!"
   ]
  },
  {
   "cell_type": "markdown",
   "metadata": {
    "slideshow": {
     "slide_type": "slide"
    }
   },
   "source": [
    "## A dedicated module to process the data\n",
    "\n",
    "In the current directory we have provided the module omni.py that contains the class omnidata, that performs the above manipulations for you!"
   ]
  },
  {
   "cell_type": "code",
   "execution_count": 7,
   "metadata": {},
   "outputs": [
    {
     "name": "stdout",
     "output_type": "stream",
     "text": [
      "(8562, 15) (8562, 1)\n"
     ]
    }
   ],
   "source": [
    "import omni\n",
    "odata = omni.omnidata('data/omni_2010.dat',dt=1,nt=5,fcast=3)\n",
    "input_features = ['Bz','V','Np']\n",
    "output_features = ['Dst']\n",
    "x, y = odata.load(input_features, output_features)\n",
    "print(x.shape, y.shape)"
   ]
  },
  {
   "cell_type": "markdown",
   "metadata": {
    "slideshow": {
     "slide_type": "slide"
    }
   },
   "source": [
    "## Data normalization\n",
    "\n",
    "Different features have different units and different ranges. Normalization of the inputs and outputs avoids an unbalance on the training of the neural network. The module omni provides a function that performs the following normalization:\n",
    "\n",
    "$x_{n} = \\frac{x-x_{\\text mean}}{x_{\\text max} - x_{\\text min}}$"
   ]
  },
  {
   "cell_type": "code",
   "execution_count": 8,
   "metadata": {},
   "outputs": [
    {
     "data": {
      "image/png": "[encoded data removed]",
      "text/plain": [
       "<Figure size 432x288 with 2 Axes>"
      ]
     },
     "metadata": {
      "needs_background": "light"
     },
     "output_type": "display_data"
    }
   ],
   "source": [
    "x_n, xmax, xmin, xmean = odata.normalize(0,x)\n",
    "y_n, ymax, ymin, ymean = odata.normalize(0,y)\n",
    "plt.subplot(211)\n",
    "plt.plot(x[:,1])\n",
    "plt.subplot(212)\n",
    "plt.plot(x_n[:,1])\n",
    "plt.show()"
   ]
  },
  {
   "cell_type": "markdown",
   "metadata": {
    "slideshow": {
     "slide_type": "slide"
    }
   },
   "source": [
    "## Seting appart training and testing data\n",
    "\n",
    "To verify the accuracy of the machine learning model we keep and independent set of inputs and outputs. From the total number of data points we will use 70% for training and 30% for testing."
   ]
  },
  {
   "cell_type": "code",
   "execution_count": 9,
   "metadata": {},
   "outputs": [
    {
     "name": "stdout",
     "output_type": "stream",
     "text": [
      "5993\n",
      "2569\n",
      "(5993, 15)\n",
      "(2569, 15)\n"
     ]
    }
   ],
   "source": [
    "ntrain = int(x.shape[0]*0.7)\n",
    "ntestn = x.shape[0] - ntrain\n",
    "print(ntrain)\n",
    "print(ntestn)\n",
    "\n",
    "xtrain = x_n[:ntrain]\n",
    "ytrain = y_n[:ntrain]\n",
    "\n",
    "xtestn = x_n[ntrain:]\n",
    "ytestn = y_n[ntrain:]\n",
    "\n",
    "print(xtrain.shape)\n",
    "print(xtestn.shape)"
   ]
  },
  {
   "cell_type": "markdown",
   "metadata": {
    "slideshow": {
     "slide_type": "slide"
    }
   },
   "source": [
    "## We are ready to build our machine learning model!\n",
    "\n",
    "We will build a simple Multi-Layer Perceptron. A fully connected forward neural network, depicted in the figure bellow.\n",
    "\n",
    "<img src=\"img/mlp.jpg\" style=\"width: 70%;\"/>"
   ]
  },
  {
   "cell_type": "markdown",
   "metadata": {},
   "source": [
    "We are going to use PyTorch to build this model!"
   ]
  },
  {
   "cell_type": "markdown",
   "metadata": {
    "slideshow": {
     "slide_type": "slide"
    }
   },
   "source": [
    "## Defining PyTorch tensors\n",
    "\n",
    "Matrices and vectors that we built during our data pre-processing have to be transformed in PyTorch tensors"
   ]
  },
  {
   "cell_type": "code",
   "execution_count": 10,
   "metadata": {},
   "outputs": [],
   "source": [
    "import torch\n",
    "\n",
    "x_train = torch.tensor(xtrain, dtype=torch.float)\n",
    "y_train = torch.tensor(ytrain, dtype=torch.float)\n",
    "x_testn = torch.tensor(xtestn, dtype=torch.float)"
   ]
  },
  {
   "cell_type": "markdown",
   "metadata": {
    "slideshow": {
     "slide_type": "slide"
    }
   },
   "source": [
    "## Build a model\n",
    "\n",
    "The method *Sequential* from PyTorch allows to quickly build a multilayer model in just a few lines. Lets create a model with two hidden layers."
   ]
  },
  {
   "cell_type": "code",
   "execution_count": 11,
   "metadata": {},
   "outputs": [
    {
     "name": "stdout",
     "output_type": "stream",
     "text": [
      "Sequential(\n",
      "  (0): Linear(in_features=15, out_features=30, bias=True)\n",
      "  (1): Sigmoid()\n",
      "  (2): Linear(in_features=30, out_features=20, bias=True)\n",
      "  (3): Sigmoid()\n",
      "  (4): Linear(in_features=20, out_features=1, bias=True)\n",
      ")\n"
     ]
    }
   ],
   "source": [
    "import torch.nn as nn\n",
    "torch.manual_seed(999)\n",
    "np.random.seed(111)\n",
    "\n",
    "nin  = x_train.shape[1]\n",
    "n1   = 30\n",
    "n2   = 20\n",
    "nout = 1\n",
    "\n",
    "layers = []\n",
    "layers.append(nn.Linear(nin, n1))\n",
    "layers.append(nn.Sigmoid())\n",
    "layers.append(nn.Linear(n1,n2))\n",
    "layers.append(nn.Sigmoid())\n",
    "layers.append(nn.Linear(n2,nout))\n",
    "\n",
    "net = nn.Sequential(*layers)\n",
    "print(net)"
   ]
  },
  {
   "cell_type": "markdown",
   "metadata": {
    "slideshow": {
     "slide_type": "slide"
    }
   },
   "source": [
    "## Defining a loss function and an optimizer\n",
    "\n",
    "The loss function will tell the model how far it is from the real solution. We will use the classing Mean Squared Error $L = \\frac{1}{m} \\sum{(y - \\hat{y})^2}$.\n",
    "\n",
    "The optimizer uses the loss function and modifies the weights of the network depending on the specific algorithm requested. The most used method is the Stochastic Gradient Descent method."
   ]
  },
  {
   "cell_type": "code",
   "execution_count": 12,
   "metadata": {},
   "outputs": [],
   "source": [
    "loss = nn.MSELoss()\n",
    "optim = torch.optim.SGD(net.parameters(), lr=0.01, momentum=0.9)"
   ]
  },
  {
   "cell_type": "markdown",
   "metadata": {
    "slideshow": {
     "slide_type": "slide"
    }
   },
   "source": [
    "## Seting up the training procedure\n",
    "\n",
    "We will pass through the data multiple times, adjusting the model at each passage. To simplify the procedure we create a function that performs the main tasks of the trainin:\n",
    "\n",
    "1. Set all gradients to zero\n",
    "2. Feed the inputs $x$ to the net to obtain the predictions $\\hat{y}$\n",
    "3. Calculate the loss between $\\hat{y}$ and $y$\n",
    "4. Propagate that error backwards in the net\n",
    "5. Calculate a new set of weights"
   ]
  },
  {
   "cell_type": "code",
   "execution_count": 13,
   "metadata": {},
   "outputs": [],
   "source": [
    "def train(model, loss, optim, x_val, y_val):\n",
    "    optim.zero_grad()\n",
    "    yhat = model.forward(x_val)\n",
    "    L = loss.forward(yhat, y_val)\n",
    "    L.backward()\n",
    "    optim.step()\n",
    "    return L.item()"
   ]
  },
  {
   "cell_type": "markdown",
   "metadata": {
    "slideshow": {
     "slide_type": "slide"
    }
   },
   "source": [
    "## Finaly set up the main training cycle\n",
    "\n",
    "We will divide the full training set into smaller chunks called batches. We will use in this example batches of size 200. This will accelerate the training. We will go through the full data 500 times."
   ]
  },
  {
   "cell_type": "code",
   "execution_count": 14,
   "metadata": {},
   "outputs": [
    {
     "name": "stdout",
     "output_type": "stream",
     "text": [
      "Training time: 7 seconds\n"
     ]
    }
   ],
   "source": [
    "import time\n",
    "\n",
    "batch_size = 200\n",
    "nepoch = 500\n",
    "\n",
    "C = []\n",
    "tbeg = time.time()\n",
    "for i in range(nepoch):\n",
    "    cost = 0\n",
    "    num_batches = ntrain // batch_size\n",
    "    for k in range(num_batches):\n",
    "        start, end = k * batch_size, min((k+1)*batch_size, ntrain)\n",
    "        cost += train(net, loss, optim, x_train[start:end], y_train[start:end])\n",
    "    C.append(cost/num_batches)\n",
    "tend = time.time()\n",
    "print(\"Training time: %d seconds\"%(tend-tbeg))"
   ]
  },
  {
   "cell_type": "markdown",
   "metadata": {
    "slideshow": {
     "slide_type": "slide"
    }
   },
   "source": [
    "## Minimization of the cost\n",
    "\n",
    "We created the buffer called C to keep the history of the cost functions during all the 300 epochs"
   ]
  },
  {
   "cell_type": "code",
   "execution_count": 15,
   "metadata": {},
   "outputs": [
    {
     "data": {
      "image/png": "[encoded data removed]",
      "text/plain": [
       "<Figure size 432x288 with 1 Axes>"
      ]
     },
     "metadata": {
      "needs_background": "light"
     },
     "output_type": "display_data"
    }
   ],
   "source": [
    "plt.plot(C, label=\"Training cost\")\n",
    "plt.legend()\n",
    "plt.show()"
   ]
  },
  {
   "cell_type": "markdown",
   "metadata": {
    "slideshow": {
     "slide_type": "slide"
    }
   },
   "source": [
    "## How good is the end result?\n",
    "\n",
    "Here we compare the testing against the results given by our model. Remember to de-normalize the outputs!"
   ]
  },
  {
   "cell_type": "code",
   "execution_count": 16,
   "metadata": {
    "slideshow": {
     "slide_type": "-"
    }
   },
   "outputs": [
    {
     "data": {
      "image/png": "[encoded data removed]",
      "text/plain": [
       "<Figure size 432x288 with 1 Axes>"
      ]
     },
     "metadata": {
      "needs_background": "light"
     },
     "output_type": "display_data"
    }
   ],
   "source": [
    "y_pred = net.forward(x_testn).data.numpy()\n",
    "\n",
    "plt.plot(odata.denorm(y_pred,ymax,ymin,ymean), label='predicted')\n",
    "plt.plot(odata.denorm(ytestn,ymax,ymin,ymean), label='real')\n",
    "plt.legend()\n",
    "plt.show()"
   ]
  },
  {
   "cell_type": "markdown",
   "metadata": {},
   "source": [
    "The results are not that bad. Could you do better? You can play with different models and activation functions!"
   ]
  },
  {
   "cell_type": "markdown",
   "metadata": {
    "slideshow": {
     "slide_type": "slide"
    }
   },
   "source": [
    "## Parallelization\n",
    "\n",
    "The training can be accelerated by parallelisation, in multiple ways. The most common are:\n",
    "\n",
    "1. **Model parallelisation:** distribute the components of the model in different processors/gpus. Can use task-based parallelisation.\n",
    "2. **Data parallelisation:** divide the (x,y) training set in subsets and distribute among different cpus/gpus. Requires a reduction of the gradients from all the ranks.\n",
    "3. **Hyper-parameter search:** Each cpu/gpu has a full copy of the data, but the model uses different hyper-parameters in each rank. This will accelerate the search for the optimal model."
   ]
  },
  {
   "cell_type": "markdown",
   "metadata": {
    "slideshow": {
     "slide_type": "slide"
    }
   },
   "source": []
  }
 ],
 "metadata": {
  "kernelspec": {
   "display_name": "Python 3",
   "language": "python",
   "name": "python3"
  },
  "language_info": {
   "codemirror_mode": {
    "name": "ipython",
    "version": 3
   },
   "file_extension": ".py",
   "mimetype": "text/x-python",
   "name": "python",
   "nbconvert_exporter": "python",
   "pygments_lexer": "ipython3",
   "version": "3.6.8"
  }
 },
 "nbformat": 4,
 "nbformat_minor": 2
}
